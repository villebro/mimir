{
 "cells": [
  {
   "cell_type": "code",
   "execution_count": 1,
   "metadata": {},
   "outputs": [],
   "source": [
    "%matplotlib inline\n",
    "\n",
    "from gym_yahtzee.envs.yahtzee_env import GameType, YahtzeeSingleEnv\n",
    "\n",
    "import gym\n",
    "\n",
    "from collections import namedtuple\n",
    "from itertools import count\n",
    "import math\n",
    "import numpy as np\n",
    "import random\n",
    "from statistics import mean, median\n",
    "from typing import Any, List, NamedTuple, Tuple\n",
    "\n",
    "import matplotlib\n",
    "import matplotlib.pyplot as plt\n",
    "\n",
    "import torch\n",
    "import torch.nn as nn\n",
    "import torch.optim as optim\n",
    "import torch.nn.functional as F\n",
    "\n",
    "# if gpu is to be used\n",
    "device = torch.device(\"cuda\" if torch.cuda.is_available() else \"cpu\")\n",
    "\n",
    "# size of input vector\n",
    "input_size = 63"
   ]
  },
  {
   "cell_type": "code",
   "execution_count": 2,
   "metadata": {},
   "outputs": [],
   "source": [
    "# set up matplotlib\n",
    "is_ipython = 'inline' in matplotlib.get_backend()\n",
    "if is_ipython:\n",
    "    from IPython import display\n",
    "    \n",
    "plt.ion()"
   ]
  },
  {
   "cell_type": "code",
   "execution_count": 3,
   "metadata": {},
   "outputs": [],
   "source": [
    "def get_one_hot(value: int, min_value: int, max_value: int) -> List[int]:\n",
    "    one_hot_list: List[int] = []\n",
    "    for i in reversed(range(min_value, max_value + 1)):\n",
    "        one_hot_list.append(1 if value == i else 0)\n",
    "    return one_hot_list\n",
    "\n",
    "def transform_state(state: Tuple[int]) -> torch.tensor:\n",
    "    \"\"\"Helper function for transforming state into a neural network friendly format by\n",
    "    mostly one hot encoding variables.\"\"\"\n",
    "    final_list: List[int] = []\n",
    "    final_list.extend(get_one_hot(state[0], 0, 13))  # round\n",
    "    final_list.extend(get_one_hot(state[1], 1, 3))  # sub_round\n",
    "    final_list.extend(get_one_hot(state[2], 1, 6))  # die 1\n",
    "    final_list.extend(get_one_hot(state[3], 1, 6))  # die 2\n",
    "    final_list.extend(get_one_hot(state[4], 1, 6))  # die 3\n",
    "    final_list.extend(get_one_hot(state[5], 1, 6))  # die 4\n",
    "    final_list.extend(get_one_hot(state[6], 1, 6))  # die 5\n",
    "\n",
    "    # calculate sum of top \n",
    "    upper_score = 0\n",
    "    for category_index in range(7, 22):\n",
    "        category_score = state[category_index]\n",
    "        if category_index <= 12:\n",
    "            upper_score += max(0, category_score)\n",
    "        \n",
    "        # 1 if cateogory is already used, otherwise 0\n",
    "        final_list.append(0 if category_score < 0 else 1)\n",
    "    final_list.append(upper_score)\n",
    "        \n",
    "    return torch.tensor([final_list], dtype=torch.float)"
   ]
  },
  {
   "cell_type": "code",
   "execution_count": 4,
   "metadata": {},
   "outputs": [
    {
     "name": "stdout",
     "output_type": "stream",
     "text": [
      "Example state for last round:\n",
      "(13, 0, 5, 1, 3, 1, 2, 1, 0, 3, 4, 10, 6, 0, 0, 0, 0, 0, 15, 0, 0, -1)\n",
      "Transformed state for last round:\n",
      "tensor([[ 1.,  0.,  0.,  0.,  0.,  0.,  0.,  0.,  0.,  0.,  0.,  0.,  0.,  0.,\n",
      "          0.,  0.,  0.,  0.,  1.,  0.,  0.,  0.,  0.,  0.,  0.,  0.,  0.,  0.,\n",
      "          1.,  0.,  0.,  0.,  1.,  0.,  0.,  0.,  0.,  0.,  0.,  0.,  1.,  0.,\n",
      "          0.,  0.,  0.,  1.,  0.,  1.,  1.,  1.,  1.,  1.,  1.,  1.,  1.,  1.,\n",
      "          1.,  1.,  1.,  1.,  1.,  0., 24.]])\n",
      "Mean reward after 1000 episodes: 46.605, median: 43.0, min: 13, max: 125\n"
     ]
    }
   ],
   "source": [
    "\"\"\"Calculate mean and median total reward for random actions\"\"\"\n",
    "#env: YahtzeeSingleEnv = gym.make('yahtzee-single-v0')\n",
    "#env = YahtzeeSingleEnv(game_type = GameType.SUDDEN_DEATH)\n",
    "env = YahtzeeSingleEnv()\n",
    "\n",
    "episode_count = 1000\n",
    "\n",
    "rewards: List[int] = []\n",
    "for episode in range(episode_count):\n",
    "    env.reset()\n",
    "\n",
    "    episode_reward = 0\n",
    "    for round in count():\n",
    "        action = random.randrange(44)\n",
    "        #action = env.sample_action()\n",
    "        state, reward, done, info = env.step(action)\n",
    "        episode_reward += reward\n",
    "        if done:\n",
    "            if episode == 0:\n",
    "                state = env.get_observation_space()\n",
    "                print('Example state for last round:')\n",
    "                print(state)\n",
    "                print('Transformed state for last round:')\n",
    "                state = transform_state(state)\n",
    "                print(state)\n",
    "\n",
    "            rewards.append(episode_reward)\n",
    "            break\n",
    "\n",
    "print(f'Mean reward after {episode_count} episodes: {mean(rewards)}, ' \\\n",
    "      f'median: {median(rewards)}, min: {min(rewards)}, max: {max(rewards)}')"
   ]
  },
  {
   "cell_type": "code",
   "execution_count": 5,
   "metadata": {},
   "outputs": [],
   "source": [
    "\"\"\"Base classes for Reinforcement Learning model\"\"\"\n",
    "class Transition(NamedTuple):\n",
    "    state: torch.tensor\n",
    "    action: int\n",
    "    next_state: torch.tensor\n",
    "    reward: int\n",
    "\n",
    "\n",
    "class ReplayMemory(object):\n",
    "\n",
    "    def __init__(self, capacity):\n",
    "        self.capacity = capacity\n",
    "        self.memory = []\n",
    "        self.position = 0\n",
    "\n",
    "    def push(self, *args):\n",
    "        \"\"\"Saves a transition.\"\"\"\n",
    "        if len(self.memory) < self.capacity:\n",
    "            self.memory.append(None)\n",
    "        self.memory[self.position] = Transition(*args)\n",
    "        self.position = (self.position + 1) % self.capacity\n",
    "\n",
    "    def sample(self, batch_size):\n",
    "        return random.sample(self.memory, batch_size)\n",
    "\n",
    "    def __len__(self):\n",
    "        return len(self.memory)\n",
    "\n",
    "class DQN(nn.Module):\n",
    "    def __init__(self, input_size):\n",
    "        super(DQN, self).__init__()\n",
    "        self.input_size = input_size\n",
    "        self.l1 = nn.Linear(input_size, 128)\n",
    "        self.l2 = nn.Linear(128, 128)\n",
    "        self.l3 = nn.Linear(128, 128)\n",
    "        self.l4 = nn.Linear(128, 44)\n",
    "\n",
    "    def forward(self, x):\n",
    "        x = F.relu(self.l1(x))\n",
    "        x = F.relu(self.l2(x))\n",
    "        x = F.relu(self.l3(x))\n",
    "        x = self.l4(x)\n",
    "        return x"
   ]
  },
  {
   "cell_type": "code",
   "execution_count": 6,
   "metadata": {},
   "outputs": [],
   "source": [
    "BATCH_SIZE = 10000\n",
    "GAMMA = 0.999\n",
    "EPS_START = 0.9\n",
    "EPS_END = 0.05\n",
    "EPS_DECAY = 200\n",
    "TARGET_UPDATE = 10\n",
    "\n",
    "policy_net = DQN(input_size).to(device)\n",
    "target_net = DQN(input_size).to(device)\n",
    "target_net.load_state_dict(policy_net.state_dict())\n",
    "target_net.eval()\n",
    "\n",
    "optimizer = optim.RMSprop(policy_net.parameters())\n",
    "memory = ReplayMemory(100000)\n",
    "\n",
    "\n",
    "steps_done = 0"
   ]
  },
  {
   "cell_type": "code",
   "execution_count": 7,
   "metadata": {},
   "outputs": [],
   "source": [
    "def select_action(state):\n",
    "    global steps_done\n",
    "    sample = random.random()\n",
    "    eps_threshold = EPS_END + (EPS_START - EPS_END) * math.exp(-1. * steps_done / EPS_DECAY)\n",
    "    steps_done += 1\n",
    "    if sample > eps_threshold:\n",
    "        with torch.no_grad():\n",
    "            # t.max(1) will return largest column value of each row.\n",
    "            # second column on max result is index of where max element was\n",
    "            # found, so we pick action with the larger expected reward.\n",
    "            return policy_net(state).max(1)[1].view(1, 1)\n",
    "    else:\n",
    "        return torch.tensor([[random.randrange(44)]], device=device, dtype=torch.long)\n",
    "\n",
    "\n",
    "episode_rewards = []\n",
    "episode_durations = []\n",
    "episode_valid_actions = []\n",
    "episode_invalid_actions = []"
   ]
  },
  {
   "cell_type": "code",
   "execution_count": 8,
   "metadata": {},
   "outputs": [],
   "source": [
    "def optimize_model():\n",
    "    if len(memory) < BATCH_SIZE:\n",
    "        return\n",
    "    transitions = memory.sample(BATCH_SIZE)\n",
    "    # Transpose the batch (see https://stackoverflow.com/a/19343/3343043 for\n",
    "    # detailed explanation). This converts batch-array of Transitions\n",
    "    # to Transition of batch-arrays.\n",
    "    batch = Transition(*zip(*transitions))\n",
    "\n",
    "    # Compute a mask of non-final states and concatenate the batch elements\n",
    "    # (a final state would've been the one after which simulation ended)\n",
    "    non_final_mask = torch.tensor(tuple(map(lambda s: s is not None,\n",
    "                                          batch.next_state)), device=device, dtype=torch.uint8)\n",
    "    non_final_next_states = torch.cat([s for s in batch.next_state\n",
    "                                                if s is not None])\n",
    "    state_batch = torch.cat(batch.state)\n",
    "    action_batch = torch.cat(batch.action)\n",
    "    reward_batch = torch.cat(batch.reward)\n",
    "\n",
    "    # Compute Q(s_t, a) - the model computes Q(s_t), then we select the\n",
    "    # columns of actions taken. These are the actions which would've been taken\n",
    "    # for each batch state according to policy_net\n",
    "    state_action_values = policy_net(state_batch).gather(1, action_batch)\n",
    "\n",
    "    # Compute V(s_{t+1}) for all next states.\n",
    "    # Expected values of actions for non_final_next_states are computed based\n",
    "    # on the \"older\" target_net; selecting their best reward with max(1)[0].\n",
    "    # This is merged based on the mask, such that we'll have either the expected\n",
    "    # state value or 0 in case the state was final.\n",
    "    next_state_values = torch.zeros(BATCH_SIZE, device=device)\n",
    "    next_state_values[non_final_mask] = target_net(non_final_next_states).max(1)[0].detach()\n",
    "    # Compute the expected Q values\n",
    "    expected_state_action_values = (next_state_values * GAMMA) + reward_batch\n",
    "\n",
    "    # Compute Huber loss\n",
    "    loss = F.smooth_l1_loss(state_action_values, expected_state_action_values.unsqueeze(1))\n",
    "\n",
    "    # Optimize the model\n",
    "    optimizer.zero_grad()\n",
    "    loss.backward()\n",
    "    for param in policy_net.parameters():\n",
    "        param.grad.data.clamp_(-1, 1)\n",
    "    optimizer.step()"
   ]
  },
  {
   "cell_type": "code",
   "execution_count": null,
   "metadata": {},
   "outputs": [
    {
     "name": "stdout",
     "output_type": "stream",
     "text": [
      "0\n",
      "100\n",
      "200\n"
     ]
    }
   ],
   "source": [
    "num_episodes = 900\n",
    "for i_episode in range(num_episodes):\n",
    "    if i_episode % 100 == 0:\n",
    "        print(i_episode)\n",
    "    # Initialize the environment and state\n",
    "    env.reset()\n",
    "    state = transform_state(env.get_observation_space())\n",
    "    cum_reward = 0\n",
    "    cum_valid = 0\n",
    "    cum_invalid = 0\n",
    "    for t in count():\n",
    "#        if t % 10 == 0:\n",
    "#            print(i_episode, t, env.pyhtzee.round, env.pyhtzee.sub_round, cum_reward, cum_valid, cum_invalid)\n",
    "        # Select and perform an action\n",
    "        action = select_action(state)\n",
    "        next_state, reward, done, debug_info = env.step(action.item())\n",
    "        \n",
    "        next_state = transform_state(next_state)\n",
    "        cum_reward += reward\n",
    "        \n",
    "        # always get 1 point for valid move\n",
    "        reward += 1 if debug_info['valid_move'] else -1\n",
    "        cum_valid += 1 if debug_info['valid_move'] else 0\n",
    "        cum_invalid += 0 if debug_info['valid_move'] else 1\n",
    "        reward = torch.tensor([reward], dtype=torch.float, device=device)\n",
    "\n",
    "        # Store the transition in memory\n",
    "        memory.push(state, action, next_state, reward)\n",
    "\n",
    "        # Move to the next state\n",
    "        state = next_state\n",
    "\n",
    "        # Perform one step of the optimization (on the target network)\n",
    "        optimize_model()\n",
    "        if done:\n",
    "            episode_rewards.append(cum_reward)\n",
    "            episode_durations.append(t + 1)\n",
    "            episode_valid_actions.append(cum_valid)\n",
    "            episode_invalid_actions.append(cum_invalid)\n",
    "            break\n",
    "    # Update the target network, copying all weights and biases in DQN\n",
    "    if i_episode % TARGET_UPDATE == 0:\n",
    "        target_net.load_state_dict(policy_net.state_dict())\n",
    "\n",
    "print('Complete')"
   ]
  },
  {
   "cell_type": "code",
   "execution_count": 10,
   "metadata": {},
   "outputs": [
    {
     "data": {
      "image/png": "[encoded data removed]",
      "text/plain": [
       "<Figure size 432x288 with 1 Axes>"
      ]
     },
     "metadata": {
      "needs_background": "light"
     },
     "output_type": "display_data"
    }
   ],
   "source": [
    "def plot_rewards():\n",
    "    plt.figure(2)\n",
    "    plt.clf()\n",
    "    rewards_t = torch.tensor(episode_rewards, dtype=torch.float)\n",
    "    plt.title('Training...')\n",
    "    plt.xlabel('Episode')\n",
    "    plt.ylabel('Reward')\n",
    "    plt.plot(rewards_t.numpy())\n",
    "    # Take 100 episode averages and plot them too\n",
    "    if len(rewards_t) >= 100:\n",
    "        means = rewards_t.unfold(0, 100, 1).mean(1).view(-1)\n",
    "        means = torch.cat((torch.zeros(99), means))\n",
    "        plt.plot(means.numpy())\n",
    "plot_rewards()"
   ]
  },
  {
   "cell_type": "code",
   "execution_count": 16,
   "metadata": {},
   "outputs": [
    {
     "data": {
      "text/plain": [
       "10000"
      ]
     },
     "execution_count": 16,
     "metadata": {},
     "output_type": "execute_result"
    }
   ],
   "source": [
    "len(memory)"
   ]
  },
  {
   "cell_type": "code",
   "execution_count": null,
   "metadata": {},
   "outputs": [],
   "source": []
  }
 ],
 "metadata": {
  "kernelspec": {
   "display_name": "Python 3",
   "language": "python",
   "name": "python3"
  },
  "language_info": {
   "codemirror_mode": {
    "name": "ipython",
    "version": 3
   },
   "file_extension": ".py",
   "mimetype": "text/x-python",
   "name": "python",
   "nbconvert_exporter": "python",
   "pygments_lexer": "ipython3",
   "version": "3.7.2"
  }
 },
 "nbformat": 4,
 "nbformat_minor": 2
}
